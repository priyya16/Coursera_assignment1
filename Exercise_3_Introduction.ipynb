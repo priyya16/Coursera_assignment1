{
 "cells": [
  {
   "cell_type": "markdown",
   "id": "634bfa3d",
   "metadata": {},
   "source": [
    "In this notebook, I will summarize some of the key tools, languages, and libraries used by data scientists."
   ]
  }
 ],
 "metadata": {},
 "nbformat": 4,
 "nbformat_minor": 5
}
