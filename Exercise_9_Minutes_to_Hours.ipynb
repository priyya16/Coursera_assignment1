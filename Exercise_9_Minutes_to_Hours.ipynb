{
 "cells": [
  {
   "cell_type": "code",
   "execution_count": null,
   "id": "1e549b1a",
   "metadata": {},
   "outputs": [],
   "source": [
    "# This will convert 200 minutes to hours by dividing by 60\n",
    "200 / 60"
   ]
  }
 ],
 "metadata": {},
 "nbformat": 4,
 "nbformat_minor": 5
}
