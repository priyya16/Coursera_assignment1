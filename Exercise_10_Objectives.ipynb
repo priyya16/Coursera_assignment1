{
 "cells": [
  {
   "cell_type": "markdown",
   "id": "894f3d31",
   "metadata": {},
   "source": [
    "## Objectives\n",
    "\n",
    "- List popular languages for Data Science  \n",
    "- List commonly used libraries and tools  \n",
    "- Demonstrate basic arithmetic expressions  \n",
    "- Convert units using Python code  \n",
    "- Publish notebook on GitHub"
   ]
  }
 ],
 "metadata": {},
 "nbformat": 4,
 "nbformat_minor": 5
}
