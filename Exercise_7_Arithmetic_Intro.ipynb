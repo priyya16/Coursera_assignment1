{
 "cells": [
  {
   "cell_type": "markdown",
   "id": "1f56ddeb",
   "metadata": {},
   "source": [
    "### Below are a few examples of evaluating arithmetic expressions in Python"
   ]
  }
 ],
 "metadata": {},
 "nbformat": 4,
 "nbformat_minor": 5
}
