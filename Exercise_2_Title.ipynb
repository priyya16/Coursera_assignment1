{
 "cells": [
  {
   "cell_type": "markdown",
   "id": "3e7ad04b",
   "metadata": {},
   "source": [
    "# Data Science Tools and Ecosystem"
   ]
  }
 ],
 "metadata": {},
 "nbformat": 4,
 "nbformat_minor": 5
}
