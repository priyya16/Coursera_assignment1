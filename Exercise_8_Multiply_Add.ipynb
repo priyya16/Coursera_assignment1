{
 "cells": [
  {
   "cell_type": "code",
   "execution_count": null,
   "id": "849a53c1",
   "metadata": {},
   "outputs": [],
   "source": [
    "# This is a simple arithmetic expression to multiply then add numbers\n",
    "(3 * 4) + 5"
   ]
  }
 ],
 "metadata": {},
 "nbformat": 4,
 "nbformat_minor": 5
}
