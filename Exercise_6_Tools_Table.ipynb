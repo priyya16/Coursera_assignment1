{
 "cells": [
  {
   "cell_type": "markdown",
   "id": "52023938",
   "metadata": {},
   "source": [
    "## Data Science Tools\n",
    "\n",
    "| Category         | Tool              |\n",
    "|------------------|-------------------|\n",
    "| IDE              | Jupyter Notebook  |\n",
    "| Visualization    | Tableau           |\n",
    "| Big Data         | Apache Hadoop     |\n",
    "| Machine Learning | Scikit-learn      |"
   ]
  }
 ],
 "metadata": {},
 "nbformat": 4,
 "nbformat_minor": 5
}
